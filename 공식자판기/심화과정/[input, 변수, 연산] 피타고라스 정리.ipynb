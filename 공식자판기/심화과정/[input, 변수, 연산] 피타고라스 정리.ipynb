{
 "cells": [
  {
   "cell_type": "markdown",
   "metadata": {},
   "source": [
    "# 피타고라스 정리"
   ]
  },
  {
   "cell_type": "markdown",
   "metadata": {},
   "source": [
    "## 활용요소 : input, 변수, 연산"
   ]
  },
  {
   "cell_type": "code",
   "execution_count": 2,
   "metadata": {
    "colab": {},
    "colab_type": "code",
    "id": "HnXklzk-T9Xn"
   },
   "outputs": [],
   "source": [
    "# 피타고라스 정리\n",
    "\n",
    "import math"
   ]
  },
  {
   "cell_type": "code",
   "execution_count": 3,
   "metadata": {
    "colab": {},
    "colab_type": "code",
    "id": "Hxoh409gUKeU"
   },
   "outputs": [],
   "source": [
    "def bitbyun(a, b):\n",
    "  x = math.sqrt(a*a + b*b)\n",
    "  print(\"%d^2 + %d^2 = c^2\" % (a, b))\n",
    "  print(x)"
   ]
  },
  {
   "cell_type": "code",
   "execution_count": 4,
   "metadata": {
    "colab": {
     "base_uri": "https://localhost:8080/",
     "height": 52
    },
    "colab_type": "code",
    "executionInfo": {
     "elapsed": 722,
     "status": "ok",
     "timestamp": 1551964987933,
     "user": {
      "displayName": "이재승",
      "photoUrl": "",
      "userId": "12327711496092651337"
     },
     "user_tz": -540
    },
    "id": "wpAZflzgUKgx",
    "outputId": "114247e4-f35f-4d3b-be62-fe0eee41488c"
   },
   "outputs": [
    {
     "name": "stdout",
     "output_type": "stream",
     "text": [
      "3^2 + 4^2 = c^2\n",
      "5.0\n"
     ]
    }
   ],
   "source": [
    "bitbyun(3, 4)"
   ]
  },
  {
   "cell_type": "markdown",
   "metadata": {},
   "source": [
    "### Input을 활용할 경우"
   ]
  },
  {
   "cell_type": "code",
   "execution_count": 5,
   "metadata": {},
   "outputs": [
    {
     "name": "stdout",
     "output_type": "stream",
     "text": [
      "3 4\n",
      "3^2 + 4^2 = c^2\n",
      "5.0\n"
     ]
    }
   ],
   "source": [
    "a, b = map(int, input().split())\n",
    "# Input 부르기\n",
    "\n",
    "x = math.sqrt(a*a + b*b)\n",
    "print(\"%d^2 + %d^2 = c^2\" % (a, b))\n",
    "print(x)"
   ]
  },
  {
   "cell_type": "code",
   "execution_count": 0,
   "metadata": {
    "colab": {},
    "colab_type": "code",
    "id": "NPay9t43UKiz"
   },
   "outputs": [],
   "source": [
    "def aorb(a, c):\n",
    "  x = math.sqrt(c*c - a*a)\n",
    "  print(\"%d^2 + b^2 = %d^2\" % (a, c))\n",
    "  print(x)  "
   ]
  },
  {
   "cell_type": "code",
   "execution_count": 11,
   "metadata": {
    "colab": {
     "base_uri": "https://localhost:8080/",
     "height": 52
    },
    "colab_type": "code",
    "executionInfo": {
     "elapsed": 845,
     "status": "ok",
     "timestamp": 1551965085338,
     "user": {
      "displayName": "이재승",
      "photoUrl": "",
      "userId": "12327711496092651337"
     },
     "user_tz": -540
    },
    "id": "sx-qa7mvUKcG",
    "outputId": "b807d974-7c45-4e88-e4b7-85616ae13119"
   },
   "outputs": [
    {
     "name": "stdout",
     "output_type": "stream",
     "text": [
      "3^2 + b^2 = 5^2\n",
      "4.0\n"
     ]
    }
   ],
   "source": [
    "aorb(3, 5)"
   ]
  }
 ],
 "metadata": {
  "colab": {
   "collapsed_sections": [],
   "name": "피타고라스 정리.ipynb",
   "provenance": [],
   "version": "0.3.2"
  },
  "kernelspec": {
   "display_name": "Python 3",
   "language": "python",
   "name": "python3"
  },
  "language_info": {
   "codemirror_mode": {
    "name": "ipython",
    "version": 3
   },
   "file_extension": ".py",
   "mimetype": "text/x-python",
   "name": "python",
   "nbconvert_exporter": "python",
   "pygments_lexer": "ipython3",
   "version": "3.6.5"
  }
 },
 "nbformat": 4,
 "nbformat_minor": 1
}
