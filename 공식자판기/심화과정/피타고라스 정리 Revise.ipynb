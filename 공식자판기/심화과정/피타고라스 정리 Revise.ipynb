{
 "cells": [
  {
   "cell_type": "code",
   "execution_count": 3,
   "metadata": {},
   "outputs": [],
   "source": [
    "import math"
   ]
  },
  {
   "cell_type": "code",
   "execution_count": 8,
   "metadata": {},
   "outputs": [
    {
     "name": "stdout",
     "output_type": "stream",
     "text": [
      "공식 자판기 입니다.\n",
      "원하시는 공식을 아래에서 선택해 주세요\n",
      "1. 피타고라스 정리\n",
      "2. 근의공식\n",
      "0. 종료\n",
      "원하는 공식의 번호를 선택해 주세요 >> 1\n",
      "피타고라스 정리는 아래와 같습니다\n",
      "a^2 + b^2 = c^2\n",
      "a 와 b에 들어갈 숫자를 입력해 주세요\n",
      "a = 3\n",
      "b = 4\n",
      "3 ^2 +  4 ^2 =  5.0\n"
     ]
    }
   ],
   "source": [
    "print(\"공식 자판기 입니다.\")\n",
    "print(\"원하시는 공식을 아래에서 선택해 주세요\")\n",
    "print(\"1. 피타고라스 정리\")\n",
    "print(\"2. 근의공식\")\n",
    "print(\"0. 종료\")\n",
    "\n",
    "num = int(input(\"원하는 공식의 번호를 선택해 주세요 >> \"))\n",
    "\n",
    "if num == 1:\n",
    "    print(\"피타고라스 정리는 아래와 같습니다\")\n",
    "    print(\"a^2 + b^2 = c^2\")\n",
    "    print(\"a 와 b에 들어갈 숫자를 입력해 주세요\")\n",
    "    a = int(input(\"a = \"))\n",
    "    b= int(input(\"b = \"))\n",
    "    c = math.sqrt(a*a + b*b)\n",
    "    print(a,\"^2 + \",b,\"^2 = \",c)\n",
    "\n",
    "elif num == 2:\n",
    "    print(\"근의 공식은 다음에 배울 거예요!\")\n",
    "\n",
    "elif num == 0:\n",
    "    print(\"종료\")"
   ]
  },
  {
   "cell_type": "code",
   "execution_count": null,
   "metadata": {},
   "outputs": [],
   "source": []
  },
  {
   "cell_type": "code",
   "execution_count": null,
   "metadata": {},
   "outputs": [],
   "source": []
  },
  {
   "cell_type": "code",
   "execution_count": null,
   "metadata": {},
   "outputs": [],
   "source": []
  }
 ],
 "metadata": {
  "kernelspec": {
   "display_name": "Python 3",
   "language": "python",
   "name": "python3"
  },
  "language_info": {
   "codemirror_mode": {
    "name": "ipython",
    "version": 3
   },
   "file_extension": ".py",
   "mimetype": "text/x-python",
   "name": "python",
   "nbconvert_exporter": "python",
   "pygments_lexer": "ipython3",
   "version": "3.6.5"
  }
 },
 "nbformat": 4,
 "nbformat_minor": 2
}
