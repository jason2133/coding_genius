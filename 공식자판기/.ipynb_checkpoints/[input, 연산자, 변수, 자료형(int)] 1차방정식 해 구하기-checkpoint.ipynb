{
 "cells": [
  {
   "cell_type": "markdown",
   "metadata": {},
   "source": [
    "# 1차방정식 해 구하기"
   ]
  },
  {
   "cell_type": "markdown",
   "metadata": {},
   "source": [
    "## 활용요소 : input, 연산자, 변수, 자료형(int)"
   ]
  },
  {
   "cell_type": "markdown",
   "metadata": {},
   "source": [
    "## 1) a*x + b = 0"
   ]
  },
  {
   "cell_type": "code",
   "execution_count": 1,
   "metadata": {
    "colab": {
     "base_uri": "https://localhost:8080/",
     "height": 70
    },
    "colab_type": "code",
    "executionInfo": {
     "elapsed": 3297,
     "status": "ok",
     "timestamp": 1551964575747,
     "user": {
      "displayName": "이재승",
      "photoUrl": "",
      "userId": "12327711496092651337"
     },
     "user_tz": -540
    },
    "id": "OND6atOrRsvY",
    "outputId": "942715bc-fff7-4d7b-f68b-d6edd13d234d"
   },
   "outputs": [
    {
     "name": "stdout",
     "output_type": "stream",
     "text": [
      "3 3\n",
      "1차방정식 : 3x + 3 = 0\n",
      "-1.0\n"
     ]
    }
   ],
   "source": [
    "# a*x + b = 0\n",
    "\n",
    "a, b = map(int, input().split())\n",
    "# Input 부르기\n",
    "\n",
    "x = (-b) / a\n",
    "\n",
    "print(\"1차방정식 : %dx + %d = 0\" % (a, b))\n",
    "print(x)"
   ]
  },
  {
   "cell_type": "code",
   "execution_count": 5,
   "metadata": {
    "colab": {},
    "colab_type": "code",
    "id": "rk0M48PzSuAc"
   },
   "outputs": [],
   "source": [
    "# Input을 사용하지 않을 경우\n",
    "# 함수에서 값만 지정하고 1차방정식의 해를 알아보고 싶은 경우\n",
    "\n",
    "def onecha(a, b):\n",
    "  x = (-b) / a\n",
    "  print(\"1차방정식 : %dx + %d = 0\" % (a, b))\n",
    "  print(x)"
   ]
  },
  {
   "cell_type": "code",
   "execution_count": 6,
   "metadata": {
    "colab": {
     "base_uri": "https://localhost:8080/",
     "height": 52
    },
    "colab_type": "code",
    "executionInfo": {
     "elapsed": 702,
     "status": "ok",
     "timestamp": 1551964613987,
     "user": {
      "displayName": "이재승",
      "photoUrl": "",
      "userId": "12327711496092651337"
     },
     "user_tz": -540
    },
    "id": "6VjRDN0lTIPM",
    "outputId": "5a1ac60f-2af7-4184-d92b-1fe4f293a782"
   },
   "outputs": [
    {
     "name": "stdout",
     "output_type": "stream",
     "text": [
      "1차방정식 : 3x + 3 = 0\n",
      "-1.0\n"
     ]
    }
   ],
   "source": [
    "onecha(3, 3)"
   ]
  },
  {
   "cell_type": "markdown",
   "metadata": {
    "colab": {},
    "colab_type": "code",
    "id": "uqnhx7ZpTMPc"
   },
   "source": [
    "## 2) a*x + b = c"
   ]
  },
  {
   "cell_type": "code",
   "execution_count": 11,
   "metadata": {},
   "outputs": [
    {
     "name": "stdout",
     "output_type": "stream",
     "text": [
      "2 2 5\n",
      "1차방정식 : 2x + 2 = 5\n",
      "1.5\n"
     ]
    }
   ],
   "source": [
    "# a*x + b = c\n",
    "\n",
    "a, b, c = map(int, input().split())\n",
    "# Input 부르기\n",
    "\n",
    "x = (c - b) / a\n",
    "\n",
    "print(\"1차방정식 : %dx + %d = %d\" % (a, b, c))\n",
    "print(x)"
   ]
  },
  {
   "cell_type": "code",
   "execution_count": 12,
   "metadata": {
    "colab": {},
    "colab_type": "code",
    "id": "G6V5fP1UTMKh"
   },
   "outputs": [],
   "source": [
    "def onecha2(a, b, c):\n",
    "    x = (c - b) / a\n",
    "    print(\"1차방정식 : %dx + %d = %d\" % (a, b, c))\n",
    "    print(x)"
   ]
  },
  {
   "cell_type": "code",
   "execution_count": 13,
   "metadata": {
    "colab": {
     "base_uri": "https://localhost:8080/",
     "height": 52
    },
    "colab_type": "code",
    "executionInfo": {
     "elapsed": 752,
     "status": "ok",
     "timestamp": 1551964680442,
     "user": {
      "displayName": "이재승",
      "photoUrl": "",
      "userId": "12327711496092651337"
     },
     "user_tz": -540
    },
    "id": "w5WlO86ZTMM2",
    "outputId": "e1656be4-891a-4ffd-dd11-8128ee3988e5",
    "scrolled": true
   },
   "outputs": [
    {
     "name": "stdout",
     "output_type": "stream",
     "text": [
      "1차방정식 : 2x + 2 = 5\n",
      "1.5\n"
     ]
    }
   ],
   "source": [
    "onecha2(2, 2, 5)"
   ]
  },
  {
   "cell_type": "code",
   "execution_count": 0,
   "metadata": {
    "colab": {},
    "colab_type": "code",
    "id": "soHlbWYETMSD"
   },
   "outputs": [],
   "source": []
  }
 ],
 "metadata": {
  "colab": {
   "collapsed_sections": [],
   "name": "1차방정식 해 구하기.ipynb",
   "provenance": [],
   "version": "0.3.2"
  },
  "kernelspec": {
   "display_name": "Python 3",
   "language": "python",
   "name": "python3"
  },
  "language_info": {
   "codemirror_mode": {
    "name": "ipython",
    "version": 3
   },
   "file_extension": ".py",
   "mimetype": "text/x-python",
   "name": "python",
   "nbconvert_exporter": "python",
   "pygments_lexer": "ipython3",
   "version": "3.6.5"
  }
 },
 "nbformat": 4,
 "nbformat_minor": 1
}
