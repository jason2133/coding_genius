{
 "cells": [
  {
   "cell_type": "markdown",
   "metadata": {},
   "source": [
    "# 2차방정식 근의공식"
   ]
  },
  {
   "cell_type": "markdown",
   "metadata": {},
   "source": [
    "## 활용요소 : input, 조건문, 연산자, 비교연산자,  자료형(int)"
   ]
  },
  {
   "cell_type": "code",
   "execution_count": 1,
   "metadata": {
    "colab": {},
    "colab_type": "code",
    "id": "MSRhLLaiPKQk"
   },
   "outputs": [],
   "source": [
    "import math\n",
    "\n",
    "# 라이브러리 불러오기\n",
    "# Python에서 sqrt(제곱근)을 사용하려면 Math 라이브러리 활용이 불가피"
   ]
  },
  {
   "cell_type": "code",
   "execution_count": 3,
   "metadata": {
    "colab": {},
    "colab_type": "code",
    "id": "SgeB77e6PHzy"
   },
   "outputs": [],
   "source": [
    "# 조건문 활용\n",
    "# If - Elif\n",
    "\n",
    "def twocha(a, b, c):\n",
    "\n",
    "  if (b*b - 4*a*c > 0):\n",
    "    print(\"방정식 : %dx^2 + %dx + %d\" % (a, b, c))\n",
    "    print(\"2개의 근이 있구나!\")\n",
    "    print((-b + math.sqrt((b * b) - (4 * a * c))) / (2 * a))\n",
    "    print((-b - math.sqrt((b * b) - (4 * a * c))) / (2 * a))\n",
    "    \n",
    "  elif (b*b - 4*a*c == 0):\n",
    "    print(\"방정식 : %dx^2 + %dx + %d\" % (a, b, c))\n",
    "    print(\"중근이구나!\")\n",
    "    print((-b + math.sqrt((b * b) - (4 * a * c))) / (2 * a))\n",
    "  \n",
    "  elif (b*b - 4*a*c < 0):\n",
    "    print(\"방정식 : %dx^2 + %dx + %d\" % (a, b, c))\n",
    "    print(\"실근이 없구나!\")\n",
    "    \n",
    "  # elif (b*b - 4*a*c < 0): 의 경우 else로 처리 가능\n",
    "  # else:\n",
    "    # print(\"방정식 : %dx^2 + %dx + %d)\" % (a, b, c))\n",
    "    # print(\"실근이 없구나!\")"
   ]
  },
  {
   "cell_type": "code",
   "execution_count": 4,
   "metadata": {
    "colab": {
     "base_uri": "https://localhost:8080/",
     "height": 87
    },
    "colab_type": "code",
    "executionInfo": {
     "elapsed": 740,
     "status": "ok",
     "timestamp": 1551964183231,
     "user": {
      "displayName": "이재승",
      "photoUrl": "",
      "userId": "12327711496092651337"
     },
     "user_tz": -540
    },
    "id": "yYOY4kiMPKLc",
    "outputId": "6cdd16ac-9add-45f4-941a-b0252e8a217f"
   },
   "outputs": [
    {
     "name": "stdout",
     "output_type": "stream",
     "text": [
      "방정식 : 1x^2 + -6x + 8\n",
      "2개의 근이 있구나!\n",
      "4.0\n",
      "2.0\n"
     ]
    }
   ],
   "source": [
    "twocha(1, -6, 8)"
   ]
  },
  {
   "cell_type": "code",
   "execution_count": 5,
   "metadata": {
    "colab": {
     "base_uri": "https://localhost:8080/",
     "height": 70
    },
    "colab_type": "code",
    "executionInfo": {
     "elapsed": 788,
     "status": "ok",
     "timestamp": 1551964185173,
     "user": {
      "displayName": "이재승",
      "photoUrl": "",
      "userId": "12327711496092651337"
     },
     "user_tz": -540
    },
    "id": "u-qlmdCYQupf",
    "outputId": "c37ac191-2cec-4591-c464-a57ecb59da0a"
   },
   "outputs": [
    {
     "name": "stdout",
     "output_type": "stream",
     "text": [
      "방정식 : 1x^2 + -4x + 4\n",
      "중근이구나!\n",
      "2.0\n"
     ]
    }
   ],
   "source": [
    "twocha(1, -4, 4)"
   ]
  },
  {
   "cell_type": "code",
   "execution_count": 6,
   "metadata": {
    "colab": {
     "base_uri": "https://localhost:8080/",
     "height": 52
    },
    "colab_type": "code",
    "executionInfo": {
     "elapsed": 701,
     "status": "ok",
     "timestamp": 1551964186935,
     "user": {
      "displayName": "이재승",
      "photoUrl": "",
      "userId": "12327711496092651337"
     },
     "user_tz": -540
    },
    "id": "qjuv5f71RX9F",
    "outputId": "2fbc6089-58c1-4a48-8e1c-633347d46211"
   },
   "outputs": [
    {
     "name": "stdout",
     "output_type": "stream",
     "text": [
      "방정식 : 500x^2 + 1x + 1\n",
      "실근이 없구나!\n"
     ]
    }
   ],
   "source": [
    "twocha(500, 1, 1)"
   ]
  },
  {
   "cell_type": "markdown",
   "metadata": {},
   "source": [
    "### Input을 활용할 경우"
   ]
  },
  {
   "cell_type": "code",
   "execution_count": 10,
   "metadata": {},
   "outputs": [
    {
     "name": "stdout",
     "output_type": "stream",
     "text": [
      "1 -6 8\n",
      "방정식 : 1x^2 + -6x + 8\n",
      "2개의 근이 있구나!\n",
      "4.0\n",
      "2.0\n"
     ]
    }
   ],
   "source": [
    "a, b, c = map(int, input().split())\n",
    "\n",
    "if (b*b - 4*a*c > 0):\n",
    "    print(\"방정식 : %dx^2 + %dx + %d\" % (a, b, c))\n",
    "    print(\"2개의 근이 있구나!\")\n",
    "    print((-b + math.sqrt((b * b) - (4 * a * c))) / (2 * a))\n",
    "    print((-b - math.sqrt((b * b) - (4 * a * c))) / (2 * a))\n",
    "    \n",
    "elif (b*b - 4*a*c == 0):\n",
    "    print(\"방정식 : %dx^2 + %dx + %d\" % (a, b, c))\n",
    "    print(\"중근이구나!\")\n",
    "    print((-b + math.sqrt((b * b) - (4 * a * c))) / (2 * a))\n",
    "\n",
    "elif (b*b - 4*a*c < 0):\n",
    "    print(\"방정식 : %dx^2 + %dx + %d\" % (a, b, c))\n",
    "    print(\"실근이 없구나!\")"
   ]
  },
  {
   "cell_type": "code",
   "execution_count": null,
   "metadata": {},
   "outputs": [],
   "source": []
  },
  {
   "cell_type": "code",
   "execution_count": null,
   "metadata": {},
   "outputs": [],
   "source": []
  }
 ],
 "metadata": {
  "colab": {
   "collapsed_sections": [],
   "name": "2차방정식 근의공식.ipynb",
   "provenance": [],
   "version": "0.3.2"
  },
  "kernelspec": {
   "display_name": "Python 3",
   "language": "python",
   "name": "python3"
  },
  "language_info": {
   "codemirror_mode": {
    "name": "ipython",
    "version": 3
   },
   "file_extension": ".py",
   "mimetype": "text/x-python",
   "name": "python",
   "nbconvert_exporter": "python",
   "pygments_lexer": "ipython3",
   "version": "3.6.5"
  }
 },
 "nbformat": 4,
 "nbformat_minor": 1
}
