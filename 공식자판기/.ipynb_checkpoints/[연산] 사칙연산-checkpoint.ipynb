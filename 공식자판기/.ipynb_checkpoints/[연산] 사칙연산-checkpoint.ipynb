{
 "cells": [
  {
   "cell_type": "code",
   "execution_count": 0,
   "metadata": {
    "colab": {},
    "colab_type": "code",
    "id": "udCnMor_DL4t"
   },
   "outputs": [],
   "source": [
    "# 클래스 정의\n",
    "class Fourcal:\n",
    "    def setdata(self, first, second):\n",
    "        self.first = first\n",
    "        self.second = second\n",
    "    def sum(self):\n",
    "        result = self.first + self.second\n",
    "        return result\n",
    "    def sub(self):\n",
    "        result = self.first - self.second\n",
    "        return result\n",
    "    def mul(self):\n",
    "        result = self.first * self.second\n",
    "        return result\n",
    "    def div(self):\n",
    "        result = self.first / self.second\n",
    "        return result"
   ]
  },
  {
   "cell_type": "code",
   "execution_count": 0,
   "metadata": {
    "colab": {},
    "colab_type": "code",
    "id": "qjZaEE5fDVYy"
   },
   "outputs": [],
   "source": [
    "# 데이터 정의\n",
    "a = Fourcal()\n",
    "a.setdata(6, 9)"
   ]
  },
  {
   "cell_type": "code",
   "execution_count": 3,
   "metadata": {
    "colab": {
     "base_uri": "https://localhost:8080/",
     "height": 34
    },
    "colab_type": "code",
    "executionInfo": {
     "elapsed": 705,
     "status": "ok",
     "timestamp": 1551960502213,
     "user": {
      "displayName": "이재승",
      "photoUrl": "",
      "userId": "12327711496092651337"
     },
     "user_tz": -540
    },
    "id": "kRMt4xfODRrW",
    "outputId": "84cb656b-4aa2-4592-e345-38b98dd781a0"
   },
   "outputs": [
    {
     "name": "stdout",
     "output_type": "stream",
     "text": [
      "15\n"
     ]
    }
   ],
   "source": [
    "# 덧셈\n",
    "print(a.sum())"
   ]
  },
  {
   "cell_type": "code",
   "execution_count": 4,
   "metadata": {
    "colab": {
     "base_uri": "https://localhost:8080/",
     "height": 34
    },
    "colab_type": "code",
    "executionInfo": {
     "elapsed": 936,
     "status": "ok",
     "timestamp": 1551960506080,
     "user": {
      "displayName": "이재승",
      "photoUrl": "",
      "userId": "12327711496092651337"
     },
     "user_tz": -540
    },
    "id": "eGt-ifjBDRxm",
    "outputId": "a354327a-9435-404d-fc95-723391a065b0"
   },
   "outputs": [
    {
     "name": "stdout",
     "output_type": "stream",
     "text": [
      "-3\n"
     ]
    }
   ],
   "source": [
    "# 뺄셈\n",
    "print(a.sub())"
   ]
  },
  {
   "cell_type": "code",
   "execution_count": 5,
   "metadata": {
    "colab": {
     "base_uri": "https://localhost:8080/",
     "height": 34
    },
    "colab_type": "code",
    "executionInfo": {
     "elapsed": 775,
     "status": "ok",
     "timestamp": 1551960509356,
     "user": {
      "displayName": "이재승",
      "photoUrl": "",
      "userId": "12327711496092651337"
     },
     "user_tz": -540
    },
    "id": "QxebVo4tDR2Q",
    "outputId": "bf66c96c-ba11-4379-b9b7-0f8fdde717e3"
   },
   "outputs": [
    {
     "name": "stdout",
     "output_type": "stream",
     "text": [
      "54\n"
     ]
    }
   ],
   "source": [
    "# 곱셈\n",
    "print(a.mul())"
   ]
  },
  {
   "cell_type": "code",
   "execution_count": 7,
   "metadata": {
    "colab": {
     "base_uri": "https://localhost:8080/",
     "height": 34
    },
    "colab_type": "code",
    "executionInfo": {
     "elapsed": 738,
     "status": "ok",
     "timestamp": 1551960519982,
     "user": {
      "displayName": "이재승",
      "photoUrl": "",
      "userId": "12327711496092651337"
     },
     "user_tz": -540
    },
    "id": "XVIPk955DSA_",
    "outputId": "027162c7-7d01-48b8-bd27-2ff43b79764c"
   },
   "outputs": [
    {
     "name": "stdout",
     "output_type": "stream",
     "text": [
      "0.6666666666666666\n"
     ]
    }
   ],
   "source": [
    "# 나눗셈\n",
    "print(a.div())"
   ]
  }
 ],
 "metadata": {
  "colab": {
   "collapsed_sections": [],
   "name": "사칙연산.ipynb",
   "provenance": [],
   "version": "0.3.2"
  },
  "kernelspec": {
   "display_name": "Python 3",
   "language": "python",
   "name": "python3"
  },
  "language_info": {
   "codemirror_mode": {
    "name": "ipython",
    "version": 3
   },
   "file_extension": ".py",
   "mimetype": "text/x-python",
   "name": "python",
   "nbconvert_exporter": "python",
   "pygments_lexer": "ipython3",
   "version": "3.6.5"
  }
 },
 "nbformat": 4,
 "nbformat_minor": 1
}
