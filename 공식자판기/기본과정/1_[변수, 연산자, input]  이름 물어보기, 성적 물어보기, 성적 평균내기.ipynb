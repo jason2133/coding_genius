{
 "cells": [
  {
   "cell_type": "markdown",
   "metadata": {},
   "source": [
    "# 이름 물어보기, 성적 물어보기, 성적 평균내기"
   ]
  },
  {
   "cell_type": "markdown",
   "metadata": {},
   "source": [
    "### 이름 물어보기 : Input\n",
    "### 성적 물어보기 : Input\n",
    "### 성적 평균내기 : 연산자\n",
    "\n",
    "#### 각각의 과정에서 변수가 활용됨."
   ]
  },
  {
   "cell_type": "markdown",
   "metadata": {},
   "source": [
    "## 활용요소 : 변수, 연산자, input"
   ]
  },
  {
   "cell_type": "code",
   "execution_count": 24,
   "metadata": {},
   "outputs": [],
   "source": [
    "# 변수\n",
    "# 이름, 국어점수, 수학점수, 영어점수\n",
    "\n",
    "name = \"코지\"\n",
    "korean = 77\n",
    "math = 92\n",
    "eng = 88"
   ]
  },
  {
   "cell_type": "code",
   "execution_count": 25,
   "metadata": {},
   "outputs": [
    {
     "name": "stdout",
     "output_type": "stream",
     "text": [
      "코지\n"
     ]
    }
   ],
   "source": [
    "print(name)"
   ]
  },
  {
   "cell_type": "code",
   "execution_count": 26,
   "metadata": {},
   "outputs": [
    {
     "name": "stdout",
     "output_type": "stream",
     "text": [
      "77\n"
     ]
    }
   ],
   "source": [
    "print(korean)"
   ]
  },
  {
   "cell_type": "code",
   "execution_count": 27,
   "metadata": {},
   "outputs": [
    {
     "name": "stdout",
     "output_type": "stream",
     "text": [
      "92\n"
     ]
    }
   ],
   "source": [
    "print(math)"
   ]
  },
  {
   "cell_type": "code",
   "execution_count": 28,
   "metadata": {},
   "outputs": [
    {
     "name": "stdout",
     "output_type": "stream",
     "text": [
      "88\n"
     ]
    }
   ],
   "source": [
    "print(eng)"
   ]
  },
  {
   "cell_type": "markdown",
   "metadata": {},
   "source": [
    "### 똑같은 과정을 Input을 활용해서 하기"
   ]
  },
  {
   "cell_type": "code",
   "execution_count": 33,
   "metadata": {},
   "outputs": [
    {
     "name": "stdout",
     "output_type": "stream",
     "text": [
      "<class 'str'>코지\n",
      "코지\n"
     ]
    }
   ],
   "source": [
    "name = input(str)\n",
    "print(name)"
   ]
  },
  {
   "cell_type": "code",
   "execution_count": 38,
   "metadata": {},
   "outputs": [
    {
     "name": "stdout",
     "output_type": "stream",
     "text": [
      "너 이름이 뭐니? 코지\n",
      "코지\n",
      "제 이름은 코지입니다.\n"
     ]
    }
   ],
   "source": [
    "name = input(\"너 이름이 뭐니? \")\n",
    "\n",
    "# name = input(str)과 name = input(\"너 이름이 뭐니? \")은 '코지'를 name이라는 변수에 넣는다는 점에서 같습니다.\n",
    "\n",
    "# 코드의 간결성을 위해서는 전자를, 친근감을 위해서는 후자를 택하는게 좋겠네요.\n",
    "# 2개 중 택 1 해주시면 감사하겠습니다.\n",
    "\n",
    "# 역시 아래 2개 중 택 1 해주세요\n",
    "print(name)\n",
    "print(\"제 이름은 \" + name + \"입니다.\")"
   ]
  },
  {
   "cell_type": "code",
   "execution_count": 30,
   "metadata": {},
   "outputs": [
    {
     "name": "stdout",
     "output_type": "stream",
     "text": [
      "국어 점수가 몇 점이니? 77\n",
      "77\n",
      "제 국어 점수는 77점입니다.\n"
     ]
    }
   ],
   "source": [
    "korean = input(\"국어 점수가 몇 점이니? \")\n",
    "\n",
    "# 아래 2개 중 택 1 해주세요\n",
    "print(korean)\n",
    "print(\"제 국어 점수는 \" + korean + \"점입니다.\")"
   ]
  },
  {
   "cell_type": "code",
   "execution_count": 31,
   "metadata": {},
   "outputs": [
    {
     "name": "stdout",
     "output_type": "stream",
     "text": [
      "수학 점수가 몇 점이니? 92\n",
      "92\n",
      "제 수학 점수는 92점입니다.\n"
     ]
    }
   ],
   "source": [
    "math = input(\"수학 점수가 몇 점이니? \")\n",
    "\n",
    "# 아래 2개 중 택 1 해주세요\n",
    "print(math)\n",
    "print(\"제 수학 점수는 \" + math + \"점입니다.\")"
   ]
  },
  {
   "cell_type": "code",
   "execution_count": 32,
   "metadata": {},
   "outputs": [
    {
     "name": "stdout",
     "output_type": "stream",
     "text": [
      "영어 점수가 몇 점이니? 88\n",
      "88\n",
      "제 영어 점수는 88점입니다.\n"
     ]
    }
   ],
   "source": [
    "eng = input(\"영어 점수가 몇 점이니? \")\n",
    "\n",
    "# 아래 2개 중 택 1 해주세요\n",
    "print(eng)\n",
    "print(\"제 영어 점수는 \" + eng + \"점입니다.\")"
   ]
  },
  {
   "cell_type": "code",
   "execution_count": 47,
   "metadata": {},
   "outputs": [],
   "source": [
    "# 평균\n",
    "# 연산자 활용\n",
    "\n",
    "score = 77 + 92 + 88"
   ]
  },
  {
   "cell_type": "code",
   "execution_count": 48,
   "metadata": {},
   "outputs": [
    {
     "name": "stdout",
     "output_type": "stream",
     "text": [
      "257\n"
     ]
    }
   ],
   "source": [
    "# 점수 총합\n",
    "print(score)"
   ]
  },
  {
   "cell_type": "code",
   "execution_count": 49,
   "metadata": {},
   "outputs": [],
   "source": [
    "# 평균 구하기\n",
    "average = (77 + 92 + 88) / 3"
   ]
  },
  {
   "cell_type": "code",
   "execution_count": 50,
   "metadata": {},
   "outputs": [
    {
     "name": "stdout",
     "output_type": "stream",
     "text": [
      "85.66666666666667\n"
     ]
    }
   ],
   "source": [
    "print(average)"
   ]
  },
  {
   "cell_type": "code",
   "execution_count": null,
   "metadata": {},
   "outputs": [],
   "source": []
  },
  {
   "cell_type": "code",
   "execution_count": null,
   "metadata": {},
   "outputs": [],
   "source": []
  }
 ],
 "metadata": {
  "kernelspec": {
   "display_name": "Python 3",
   "language": "python",
   "name": "python3"
  },
  "language_info": {
   "codemirror_mode": {
    "name": "ipython",
    "version": 3
   },
   "file_extension": ".py",
   "mimetype": "text/x-python",
   "name": "python",
   "nbconvert_exporter": "python",
   "pygments_lexer": "ipython3",
   "version": "3.6.5"
  }
 },
 "nbformat": 4,
 "nbformat_minor": 2
}
