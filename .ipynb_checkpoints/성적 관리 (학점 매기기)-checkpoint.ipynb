{
 "cells": [
  {
   "cell_type": "markdown",
   "metadata": {},
   "source": [
    "# 성적 관리 (학점 매기기)"
   ]
  },
  {
   "cell_type": "markdown",
   "metadata": {},
   "source": [
    "## 활용요소 : 조건문"
   ]
  },
  {
   "cell_type": "code",
   "execution_count": 0,
   "metadata": {
    "colab": {},
    "colab_type": "code",
    "id": "x2UD7v-zWh58"
   },
   "outputs": [],
   "source": [
    "def grade(x):\n",
    "  if x > 90 :\n",
    "    print(\"A\")\n",
    "  \n",
    "  elif 80 <= x < 90:\n",
    "    print(\"B\")\n",
    "  \n",
    "  elif 70 <= x < 80:\n",
    "    print(\"C\")\n",
    "    \n",
    "  elif 60 <= x < 70:\n",
    "    print(\"D\")\n",
    "  \n",
    "  else:\n",
    "  # if x < 60: 과 같음\n",
    "    print(\"F\")"
   ]
  },
  {
   "cell_type": "code",
   "execution_count": 14,
   "metadata": {
    "colab": {
     "base_uri": "https://localhost:8080/",
     "height": 34
    },
    "colab_type": "code",
    "executionInfo": {
     "elapsed": 787,
     "status": "ok",
     "timestamp": 1551966502144,
     "user": {
      "displayName": "이재승",
      "photoUrl": "",
      "userId": "12327711496092651337"
     },
     "user_tz": -540
    },
    "id": "Whzrlm0rZKrv",
    "outputId": "d65bcd3e-8de4-402a-a047-6c31025db45c"
   },
   "outputs": [
    {
     "name": "stdout",
     "output_type": "stream",
     "text": [
      "A\n"
     ]
    }
   ],
   "source": [
    "grade(95)"
   ]
  },
  {
   "cell_type": "code",
   "execution_count": 15,
   "metadata": {
    "colab": {
     "base_uri": "https://localhost:8080/",
     "height": 34
    },
    "colab_type": "code",
    "executionInfo": {
     "elapsed": 440,
     "status": "ok",
     "timestamp": 1551966503017,
     "user": {
      "displayName": "이재승",
      "photoUrl": "",
      "userId": "12327711496092651337"
     },
     "user_tz": -540
    },
    "id": "4TndbBXnZMd-",
    "outputId": "ad08d1c2-e0ab-4b7f-efea-1830407bd2bb"
   },
   "outputs": [
    {
     "name": "stdout",
     "output_type": "stream",
     "text": [
      "B\n"
     ]
    }
   ],
   "source": [
    "grade(85)"
   ]
  },
  {
   "cell_type": "code",
   "execution_count": 17,
   "metadata": {
    "colab": {
     "base_uri": "https://localhost:8080/",
     "height": 34
    },
    "colab_type": "code",
    "executionInfo": {
     "elapsed": 903,
     "status": "ok",
     "timestamp": 1551966508296,
     "user": {
      "displayName": "이재승",
      "photoUrl": "",
      "userId": "12327711496092651337"
     },
     "user_tz": -540
    },
    "id": "8YVu5yX_ZN0m",
    "outputId": "60fdd3e3-e714-4827-ad60-34e4e1c5e0b9"
   },
   "outputs": [
    {
     "name": "stdout",
     "output_type": "stream",
     "text": [
      "C\n"
     ]
    }
   ],
   "source": [
    "grade(75)"
   ]
  },
  {
   "cell_type": "code",
   "execution_count": 18,
   "metadata": {
    "colab": {
     "base_uri": "https://localhost:8080/",
     "height": 34
    },
    "colab_type": "code",
    "executionInfo": {
     "elapsed": 738,
     "status": "ok",
     "timestamp": 1551966512144,
     "user": {
      "displayName": "이재승",
      "photoUrl": "",
      "userId": "12327711496092651337"
     },
     "user_tz": -540
    },
    "id": "iq1nGjzgZMgc",
    "outputId": "146778b8-bf18-4590-ce3b-f78124e6e905"
   },
   "outputs": [
    {
     "name": "stdout",
     "output_type": "stream",
     "text": [
      "D\n"
     ]
    }
   ],
   "source": [
    "grade(65)"
   ]
  },
  {
   "cell_type": "code",
   "execution_count": 19,
   "metadata": {
    "colab": {
     "base_uri": "https://localhost:8080/",
     "height": 34
    },
    "colab_type": "code",
    "executionInfo": {
     "elapsed": 736,
     "status": "ok",
     "timestamp": 1551966515111,
     "user": {
      "displayName": "이재승",
      "photoUrl": "",
      "userId": "12327711496092651337"
     },
     "user_tz": -540
    },
    "id": "6CMn__0EZMis",
    "outputId": "c689bbb6-16a3-451f-c70f-a70d6ae996b0"
   },
   "outputs": [
    {
     "name": "stdout",
     "output_type": "stream",
     "text": [
      "F\n"
     ]
    }
   ],
   "source": [
    "grade(55)"
   ]
  }
 ],
 "metadata": {
  "colab": {
   "collapsed_sections": [],
   "name": "성적 관리.ipynb",
   "provenance": [],
   "version": "0.3.2"
  },
  "kernelspec": {
   "display_name": "Python 3",
   "language": "python",
   "name": "python3"
  },
  "language_info": {
   "codemirror_mode": {
    "name": "ipython",
    "version": 3
   },
   "file_extension": ".py",
   "mimetype": "text/x-python",
   "name": "python",
   "nbconvert_exporter": "python",
   "pygments_lexer": "ipython3",
   "version": "3.6.5"
  }
 },
 "nbformat": 4,
 "nbformat_minor": 1
}
