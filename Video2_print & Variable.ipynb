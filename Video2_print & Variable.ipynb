{
 "cells": [
  {
   "cell_type": "code",
   "execution_count": 3,
   "metadata": {},
   "outputs": [
    {
     "name": "stdout",
     "output_type": "stream",
     "text": [
      "이름 : 코지\n"
     ]
    }
   ],
   "source": [
    "# 학생증\n",
    "# Print로만\n",
    "\n",
    "print(\"이름 : 코지\")"
   ]
  },
  {
   "cell_type": "code",
   "execution_count": 4,
   "metadata": {},
   "outputs": [
    {
     "name": "stdout",
     "output_type": "stream",
     "text": [
      "학년 : 1\n"
     ]
    }
   ],
   "source": [
    "print(\"학년 : 1\")"
   ]
  },
  {
   "cell_type": "code",
   "execution_count": 6,
   "metadata": {},
   "outputs": [
    {
     "name": "stdout",
     "output_type": "stream",
     "text": [
      "나이 : 15\n"
     ]
    }
   ],
   "source": [
    "print(\"나이 : 15\")"
   ]
  },
  {
   "cell_type": "code",
   "execution_count": 7,
   "metadata": {},
   "outputs": [],
   "source": [
    "# 변수로 하기\n",
    "name = \"코지\"\n",
    "gender = \"남성\"\n",
    "age = 15\n",
    "grade = 2\n",
    "address = \"서울 마곡\"\n",
    "coding = \"Y\"\n",
    "\n",
    "# 여기서 =은 '같다'가 아니라, '저장한다'는 것을 의미한다."
   ]
  },
  {
   "cell_type": "code",
   "execution_count": 8,
   "metadata": {},
   "outputs": [
    {
     "name": "stdout",
     "output_type": "stream",
     "text": [
      "코지\n"
     ]
    }
   ],
   "source": [
    "# print(변수)를 할 차례\n",
    "\n",
    "print(name)"
   ]
  },
  {
   "cell_type": "code",
   "execution_count": 9,
   "metadata": {},
   "outputs": [
    {
     "name": "stdout",
     "output_type": "stream",
     "text": [
      "남성\n"
     ]
    }
   ],
   "source": [
    "print(gender)"
   ]
  },
  {
   "cell_type": "code",
   "execution_count": 10,
   "metadata": {},
   "outputs": [
    {
     "name": "stdout",
     "output_type": "stream",
     "text": [
      "15\n"
     ]
    }
   ],
   "source": [
    "print(age)"
   ]
  },
  {
   "cell_type": "code",
   "execution_count": 11,
   "metadata": {},
   "outputs": [
    {
     "name": "stdout",
     "output_type": "stream",
     "text": [
      "서울 마곡\n"
     ]
    }
   ],
   "source": [
    "print(address)"
   ]
  },
  {
   "cell_type": "code",
   "execution_count": 12,
   "metadata": {},
   "outputs": [],
   "source": [
    "# 급식 컨셉으로 간다\n",
    "# 오늘 점심 급식 뭐먹지?\n",
    "# 변수를 정의한다\n",
    "\n",
    "bob = \"치킨마요덮밥\"\n",
    "bob_kcal = 600\n",
    "\n",
    "soup = '감자다시마국'\n",
    "soup_kcal = 100\n",
    "\n",
    "food = '떡고치구이'\n",
    "food_kcal = 150\n",
    "\n",
    "fruit = '오렌지'\n",
    "fruit_kcal = 40\n",
    "\n",
    "kimchi = '총각김치'\n",
    "kimchi_kcal = 15"
   ]
  },
  {
   "cell_type": "code",
   "execution_count": 13,
   "metadata": {},
   "outputs": [
    {
     "name": "stdout",
     "output_type": "stream",
     "text": [
      "치킨마요덮밥\n"
     ]
    }
   ],
   "source": [
    "# print(변수)를 하여 해당 값을 출력하도록 한다\n",
    "\n",
    "print(bob)"
   ]
  },
  {
   "cell_type": "code",
   "execution_count": 14,
   "metadata": {},
   "outputs": [
    {
     "name": "stdout",
     "output_type": "stream",
     "text": [
      "감자다시마국\n"
     ]
    }
   ],
   "source": [
    "print(soup)"
   ]
  },
  {
   "cell_type": "code",
   "execution_count": 15,
   "metadata": {},
   "outputs": [
    {
     "name": "stdout",
     "output_type": "stream",
     "text": [
      "600\n"
     ]
    }
   ],
   "source": [
    "print(bob_kcal)"
   ]
  },
  {
   "cell_type": "code",
   "execution_count": 16,
   "metadata": {},
   "outputs": [
    {
     "name": "stdout",
     "output_type": "stream",
     "text": [
      "100\n"
     ]
    }
   ],
   "source": [
    "print(soup_kcal)"
   ]
  },
  {
   "cell_type": "code",
   "execution_count": 17,
   "metadata": {},
   "outputs": [
    {
     "name": "stdout",
     "output_type": "stream",
     "text": [
      "떡고치구이\n"
     ]
    }
   ],
   "source": [
    "print(food)"
   ]
  },
  {
   "cell_type": "code",
   "execution_count": 18,
   "metadata": {},
   "outputs": [
    {
     "name": "stdout",
     "output_type": "stream",
     "text": [
      "150\n"
     ]
    }
   ],
   "source": [
    "print(food_kcal)"
   ]
  },
  {
   "cell_type": "code",
   "execution_count": 19,
   "metadata": {},
   "outputs": [
    {
     "name": "stdout",
     "output_type": "stream",
     "text": [
      "오렌지\n"
     ]
    }
   ],
   "source": [
    "print(fruit)"
   ]
  },
  {
   "cell_type": "code",
   "execution_count": 20,
   "metadata": {},
   "outputs": [
    {
     "name": "stdout",
     "output_type": "stream",
     "text": [
      "40\n"
     ]
    }
   ],
   "source": [
    "print(fruit_kcal)"
   ]
  },
  {
   "cell_type": "code",
   "execution_count": 21,
   "metadata": {},
   "outputs": [
    {
     "name": "stdout",
     "output_type": "stream",
     "text": [
      "905\n"
     ]
    }
   ],
   "source": [
    "# 그렇다면, 오늘 점심에 먹은 급식의 총 칼로리 합은 얼마일까?\n",
    "# 나는 오늘 얼만큼 많이 먹었을까?\n",
    "\n",
    "# 숫자의 경우 변수로 사칙연산이 가능하다는 점을 보여준다\n",
    "# 여기에서는 가장 단순하게, 모든 값을 합치는 것이 가능하다는 점을 보여준다\n",
    "\n",
    "# 변수를 정의하지 않은 경우\n",
    "print(bob_kcal + soup_kcal + food_kcal + fruit_kcal + kimchi_kcal)"
   ]
  },
  {
   "cell_type": "code",
   "execution_count": 22,
   "metadata": {},
   "outputs": [
    {
     "name": "stdout",
     "output_type": "stream",
     "text": [
      "905\n"
     ]
    }
   ],
   "source": [
    "# 변수를 정의하는 경우\n",
    "today_kcal = bob_kcal + soup_kcal + food_kcal + fruit_kcal + kimchi_kcal\n",
    "print(today_kcal)"
   ]
  },
  {
   "cell_type": "code",
   "execution_count": null,
   "metadata": {},
   "outputs": [],
   "source": []
  },
  {
   "cell_type": "raw",
   "metadata": {},
   "source": []
  }
 ],
 "metadata": {
  "kernelspec": {
   "display_name": "Python 3",
   "language": "python",
   "name": "python3"
  },
  "language_info": {
   "codemirror_mode": {
    "name": "ipython",
    "version": 3
   },
   "file_extension": ".py",
   "mimetype": "text/x-python",
   "name": "python",
   "nbconvert_exporter": "python",
   "pygments_lexer": "ipython3",
   "version": "3.6.5"
  }
 },
 "nbformat": 4,
 "nbformat_minor": 2
}
